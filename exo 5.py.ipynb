{
 "cells": [
  {
   "cell_type": "code",
   "execution_count": 1,
   "id": "0307ca20",
   "metadata": {},
   "outputs": [
    {
     "name": "stdout",
     "output_type": "stream",
     "text": [
      "enter an integer 7\n",
      "enter an integer 2\n",
      "enter an integer bob\n",
      "Invalid input\n",
      "enter an integer 4\n",
      "enter an integer 10\n",
      "enter an integer done\n",
      "Maximum is 10\n",
      "Minimum is 2\n"
     ]
    }
   ],
   "source": [
    "smal= None \n",
    "large = None\n",
    "while True:\n",
    "    s = input(\"enter an integer \")\n",
    "    if s == \"done\":\n",
    "        break\n",
    "    try:\n",
    "        c = int(s)\n",
    "        d = int(s)\n",
    "    except:\n",
    "        print(\"Invalid input\")\n",
    "        continue\n",
    "    if smal is None and large is None:\n",
    "        smal = c\n",
    "        large = d\n",
    "    elif c<smal:\n",
    "        smal = c\n",
    "    elif d>large:\n",
    "        large = d\n",
    "print(\"Maximum is\", large)\n",
    "print(\"Minimum is\", smal)\n",
    "        \n",
    "        \n",
    "        \n",
    "        \n",
    "      \n",
    "    \n",
    "    "
   ]
  },
  {
   "cell_type": "code",
   "execution_count": null,
   "id": "4ec725cb",
   "metadata": {},
   "outputs": [],
   "source": []
  },
  {
   "cell_type": "code",
   "execution_count": null,
   "id": "1488cecf",
   "metadata": {},
   "outputs": [],
   "source": []
  }
 ],
 "metadata": {
  "kernelspec": {
   "display_name": "Python 3",
   "language": "python",
   "name": "python3"
  },
  "language_info": {
   "codemirror_mode": {
    "name": "ipython",
    "version": 3
   },
   "file_extension": ".py",
   "mimetype": "text/x-python",
   "name": "python",
   "nbconvert_exporter": "python",
   "pygments_lexer": "ipython3",
   "version": "3.8.8"
  }
 },
 "nbformat": 4,
 "nbformat_minor": 5
}
